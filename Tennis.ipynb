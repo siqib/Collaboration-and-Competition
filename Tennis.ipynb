{
 "cells": [
  {
   "cell_type": "markdown",
   "metadata": {},
   "source": [
    "# Collaboration and Competition\n",
    "\n",
    "---\n",
    "\n",
    "In this notebook, you will learn how to use the Unity ML-Agents environment for the third project of the [Deep Reinforcement Learning Nanodegree](https://www.udacity.com/course/deep-reinforcement-learning-nanodegree--nd893) program.\n",
    "\n",
    "### 1. Start the Environment\n",
    "\n",
    "We begin by importing the necessary packages.  If the code cell below returns an error, please revisit the project instructions to double-check that you have installed [Unity ML-Agents](https://github.com/Unity-Technologies/ml-agents/blob/master/docs/Installation.md) and [NumPy](http://www.numpy.org/)."
   ]
  },
  {
   "cell_type": "code",
   "execution_count": 1,
   "metadata": {},
   "outputs": [],
   "source": [
    "!pip -q install ./python"
   ]
  },
  {
   "cell_type": "code",
   "execution_count": 2,
   "metadata": {},
   "outputs": [],
   "source": [
    "from unityagents import UnityEnvironment\n",
    "import numpy as np\n",
    "\n",
    "from collections import deque\n",
    "import time\n",
    "import torch"
   ]
  },
  {
   "cell_type": "code",
   "execution_count": 3,
   "metadata": {},
   "outputs": [
    {
     "name": "stderr",
     "output_type": "stream",
     "text": [
      "INFO:unityagents:\n",
      "'Academy' started successfully!\n",
      "Unity Academy name: Academy\n",
      "        Number of Brains: 1\n",
      "        Number of External Brains : 1\n",
      "        Lesson number : 0\n",
      "        Reset Parameters :\n",
      "\t\t\n",
      "Unity brain name: TennisBrain\n",
      "        Number of Visual Observations (per agent): 0\n",
      "        Vector Observation space type: continuous\n",
      "        Vector Observation space size (per agent): 8\n",
      "        Number of stacked Vector Observation: 3\n",
      "        Vector Action space type: continuous\n",
      "        Vector Action space size (per agent): 2\n",
      "        Vector Action descriptions: , \n"
     ]
    }
   ],
   "source": [
    "env = UnityEnvironment(file_name=\"/data/Tennis_Linux_NoVis/Tennis\")\n",
    "\n",
    "# get the default brain\n",
    "brain_name = env.brain_names[0]\n",
    "brain = env.brains[brain_name]"
   ]
  },
  {
   "cell_type": "markdown",
   "metadata": {},
   "source": [
    "### 2. Examine the State and Action Spaces"
   ]
  },
  {
   "cell_type": "code",
   "execution_count": 4,
   "metadata": {},
   "outputs": [
    {
     "name": "stdout",
     "output_type": "stream",
     "text": [
      "Number of agents: 2\n",
      "Size of each action: 2\n",
      "There are 2 agents. Each observes a state with length: 24\n",
      "The state for the first agent looks like: [ 0.          0.          0.          0.          0.          0.          0.\n",
      "  0.          0.          0.          0.          0.          0.          0.\n",
      "  0.          0.         -6.65278625 -1.5        -0.          0.\n",
      "  6.83172083  6.         -0.          0.        ]\n"
     ]
    }
   ],
   "source": [
    "# reset the environment\n",
    "env_info = env.reset(train_mode=True)[brain_name]\n",
    "\n",
    "# number of agents \n",
    "num_agents = len(env_info.agents)\n",
    "print('Number of agents:', num_agents)\n",
    "\n",
    "# size of each action\n",
    "action_size = brain.vector_action_space_size\n",
    "print('Size of each action:', action_size)\n",
    "\n",
    "# examine the state space \n",
    "states = env_info.vector_observations\n",
    "state_size = states.shape[1]\n",
    "print('There are {} agents. Each observes a state with length: {}'.format(states.shape[0], state_size))\n",
    "print('The state for the first agent looks like:', states[0])"
   ]
  },
  {
   "cell_type": "markdown",
   "metadata": {},
   "source": [
    "### 3. Initialize the agent"
   ]
  },
  {
   "cell_type": "code",
   "execution_count": 5,
   "metadata": {},
   "outputs": [],
   "source": [
    "from ddpg_agent import Agent\n",
    "# Initialize the agent\n",
    "agent = Agent(state_size=state_size, action_size=action_size, seed=1)"
   ]
  },
  {
   "cell_type": "markdown",
   "metadata": {},
   "source": [
    "### 4. DDPG learning"
   ]
  },
  {
   "cell_type": "code",
   "execution_count": 6,
   "metadata": {},
   "outputs": [
    {
     "name": "stdout",
     "output_type": "stream",
     "text": [
      "Episode 10\tAverage Score: 0.00\tMean within episode: 0.00\tTrain Time: 0.06\n",
      "Episode 20\tAverage Score: 0.00\tMean within episode: 0.00\tTrain Time: 0.63\n",
      "Episode 30\tAverage Score: 0.00\tMean within episode: 0.00\tTrain Time: 0.65\n",
      "Episode 40\tAverage Score: 0.00\tMean within episode: 0.00\tTrain Time: 0.64\n",
      "Episode 50\tAverage Score: 0.01\tMean within episode: 0.10\tTrain Time: 1.51\n",
      "Episode 60\tAverage Score: 0.01\tMean within episode: 0.09\tTrain Time: 1.29\n",
      "Episode 70\tAverage Score: 0.01\tMean within episode: 0.00\tTrain Time: 0.63\n",
      "Episode 80\tAverage Score: 0.02\tMean within episode: 0.10\tTrain Time: 1.50\n",
      "Episode 90\tAverage Score: 0.02\tMean within episode: 0.00\tTrain Time: 0.64\n",
      "Episode 100\tAverage Score: 0.02\tMean within episode: 0.09\tTrain Time: 1.33\n",
      "Episode 110\tAverage Score: 0.03\tMean within episode: 0.10\tTrain Time: 1.51\n",
      "Episode 120\tAverage Score: 0.04\tMean within episode: 0.00\tTrain Time: 0.63\n",
      "Episode 130\tAverage Score: 0.05\tMean within episode: 0.10\tTrain Time: 1.30\n",
      "Episode 140\tAverage Score: 0.06\tMean within episode: 0.20\tTrain Time: 3.92\n",
      "Episode 150\tAverage Score: 0.06\tMean within episode: 0.10\tTrain Time: 1.50\n",
      "Episode 160\tAverage Score: 0.08\tMean within episode: 0.10\tTrain Time: 2.37\n",
      "Episode 170\tAverage Score: 0.08\tMean within episode: 0.20\tTrain Time: 3.25\n",
      "Episode 180\tAverage Score: 0.09\tMean within episode: 0.10\tTrain Time: 2.40\n",
      "Episode 190\tAverage Score: 0.09\tMean within episode: 0.10\tTrain Time: 2.43\n",
      "Episode 200\tAverage Score: 0.10\tMean within episode: 0.10\tTrain Time: 2.45\n",
      "Episode 210\tAverage Score: 0.11\tMean within episode: 0.10\tTrain Time: 2.40\n",
      "Episode 220\tAverage Score: 0.11\tMean within episode: 0.20\tTrain Time: 3.14\n",
      "Episode 230\tAverage Score: 0.12\tMean within episode: 0.10\tTrain Time: 2.45\n",
      "Episode 240\tAverage Score: 0.13\tMean within episode: 0.10\tTrain Time: 2.59\n",
      "Episode 250\tAverage Score: 0.14\tMean within episode: 0.80\tTrain Time: 14.46\n",
      "Episode 260\tAverage Score: 0.15\tMean within episode: 0.00\tTrain Time: 0.69\n",
      "Episode 270\tAverage Score: 0.18\tMean within episode: 0.10\tTrain Time: 1.34\n",
      "Episode 280\tAverage Score: 0.20\tMean within episode: 0.10\tTrain Time: 2.48\n",
      "Episode 290\tAverage Score: 0.23\tMean within episode: 0.60\tTrain Time: 11.35\n",
      "Episode 300\tAverage Score: 0.26\tMean within episode: 0.10\tTrain Time: 2.87\n",
      "Episode 310\tAverage Score: 0.31\tMean within episode: 0.49\tTrain Time: 8.42\n",
      "Episode 320\tAverage Score: 0.32\tMean within episode: 0.30\tTrain Time: 5.92\n",
      "Episode 330\tAverage Score: 0.33\tMean within episode: 1.10\tTrain Time: 18.66\n",
      "Episode 340\tAverage Score: 0.38\tMean within episode: 1.30\tTrain Time: 23.09\n",
      "Episode 350\tAverage Score: 0.39\tMean within episode: 0.00\tTrain Time: 0.68\n",
      "Episode 360\tAverage Score: 0.41\tMean within episode: 0.30\tTrain Time: 5.92\n",
      "Episode 370\tAverage Score: 0.44\tMean within episode: 0.00\tTrain Time: 0.68\n",
      "Episode 380\tAverage Score: 0.50\tMean within episode: 1.30\tTrain Time: 23.48\n",
      "Problem Solved after 380 epsisodes!! Average score: 0.50\n"
     ]
    }
   ],
   "source": [
    "def ddpg(n_episodes=2000, max_t=1500, print_interval=10, update_every=5, num_update=10, goal_score=0.5):\n",
    "    scores_deque = deque(maxlen=100)\n",
    "    scores_all = []\n",
    "    \n",
    "    for i_episode in range(1, n_episodes+1):\n",
    "        # Reset Env and Agent\n",
    "        env_info = env.reset(train_mode=True)[brain_name]       # reset the environment    \n",
    "        states = env_info.vector_observations                   # get the current state (for each agent)\n",
    "        scores = np.zeros(num_agents)                            # initialize the score (for each agent)\n",
    "        agent.reset()\n",
    "        \n",
    "        # Record the start time of one episode\n",
    "        start_time = time.time()\n",
    "        for t in range(max_t):\n",
    "            # Take the actions based on the actor network of the agent\n",
    "            actions = agent.act(states)\n",
    "            env_info = env.step(actions)[brain_name]            # send all actions to the environment\n",
    "            next_states = env_info.vector_observations          # get next state (for each agent)\n",
    "            rewards = env_info.rewards                          # get reward (for each agent)\n",
    "            dones = env_info.local_done                         # see if episode finished\n",
    "            \n",
    "            # send the state-action-reward pair to the agent\n",
    "            for state, action, reward, next_state, done in zip(states, actions, rewards, next_states, dones):\n",
    "                agent.step(state, action, reward, next_state, done) \n",
    "            \n",
    "            scores += env_info.rewards                           # update the score (for each agent)\n",
    "            states = next_states                                # roll over states to next time step\n",
    "            \n",
    "            # Update the network regularly\n",
    "            if t%update_every == 0:\n",
    "                for _ in range(num_update):\n",
    "                    agent.start_learn()\n",
    "            # exit loop if episode finished\n",
    "            if np.any(dones):                                   \n",
    "                break\n",
    "    \n",
    "        max_score = np.max(scores)\n",
    "        \n",
    "        scores_deque.append(max_score)\n",
    "        scores_all.append(max_score)\n",
    "        average_score = np.mean(scores_deque)\n",
    "        duration = time.time() - start_time\n",
    "        \n",
    "        if i_episode % print_interval == 0:\n",
    "            print('\\rEpisode {}\\tAverage Score: {:.2f}\\tMean within episode: {:.2f}\\tTrain Time: {:.2f}'\n",
    "                  .format(i_episode, average_score, max_score, duration))\n",
    "        if average_score >= goal_score and i_episode >= 100:\n",
    "            print('Problem Solved after {} epsisodes!! Average score: {:.2f}'.format(i_episode, average_score))\n",
    "            torch.save(agent.actorNet_local.state_dict(), 'actor_net.pth')\n",
    "            torch.save(agent.criticNet_local.state_dict(), 'critic_net.pth')\n",
    "            break\n",
    "    \n",
    "    return scores_all\n",
    "\n",
    "scores = ddpg()"
   ]
  },
  {
   "cell_type": "code",
   "execution_count": 10,
   "metadata": {},
   "outputs": [
    {
     "data": {
      "image/png": "[encoded data removed]",
      "text/plain": [
       "<matplotlib.figure.Figure at 0x7f893aa56ac8>"
      ]
     },
     "metadata": {
      "needs_background": "light"
     },
     "output_type": "display_data"
    }
   ],
   "source": [
    "import matplotlib.pyplot as plt\n",
    "fig = plt.figure()\n",
    "ax = fig.add_subplot(111)\n",
    "plt.plot(np.arange(len(scores)), scores)\n",
    "plt.ylabel('Score')\n",
    "plt.xlabel('Episode #')\n",
    "plt.show()\n",
    "#fig.savefig('score_vs_episode.jpg',dpi = 300)\n",
    "#plt.close()"
   ]
  },
  {
   "cell_type": "code",
   "execution_count": null,
   "metadata": {},
   "outputs": [],
   "source": []
  }
 ],
 "metadata": {
  "kernelspec": {
   "display_name": "Python 3",
   "language": "python",
   "name": "python3"
  },
  "language_info": {
   "codemirror_mode": {
    "name": "ipython",
    "version": 3
   },
   "file_extension": ".py",
   "mimetype": "text/x-python",
   "name": "python",
   "nbconvert_exporter": "python",
   "pygments_lexer": "ipython3",
   "version": "3.6.3"
  }
 },
 "nbformat": 4,
 "nbformat_minor": 2
}
